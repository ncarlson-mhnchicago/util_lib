{
 "cells": [
  {
   "cell_type": "markdown",
   "id": "c63a331d",
   "metadata": {},
   "source": [
    "### Load Excel Files\n",
    "\n",
    "This notebook holds the source code for the resuable function to load an excel file into a Snowflake table.  It should be deployed to your project via deploy_notebooks.sql"
   ]
  },
  {
   "cell_type": "code",
   "execution_count": null,
   "id": "801f8e91",
   "metadata": {},
   "outputs": [],
   "source": [
    "# Imports\n",
    "\n",
    "import sys\n",
    "import pandas as pd\n",
    "from openpyxl import load_workbook\n"
   ]
  },
  {
   "cell_type": "code",
   "execution_count": null,
   "id": "4b3c8479",
   "metadata": {},
   "outputs": [],
   "source": [
    "# define load_excel_file\n",
    "\n",
    "def load_excel_file(session, params):\n",
    "\n",
    "    source_schema = params['source_schema']\n",
    "    source_table = params['source_table']\n",
    "    source_directory = params.get('source_directory', '')\n",
    "    source_file = params['source_file']\n",
    "    source_worksheet = params['source_worksheet']\n",
    "    source_path = f\"{source_schema}/{source_table}/{source_directory}/{source_file}\"\n",
    "\n",
    "    local_directory = \"./\"\n",
    "    local_path = f\"{local_directory}{source_file}\"\n",
    "\n",
    "    target_schema = params['target_schema']\n",
    "    target_table = params['target_table']\n",
    "    \n",
    "    # Copy file to local\n",
    "    session.file.get(source_path, local_directory)\n",
    "\n",
    "    # Open local and load workbook\n",
    "    with open(local_path, 'rb') as f:\n",
    "        workbook = load_workbook(f)\n",
    "        sheet = workbook[source_worksheet]\n",
    "        data = sheet.values\n",
    "\n",
    "        # Set the first row as the header\n",
    "        columns = next(data)[0:]\n",
    "        \n",
    "        # Create a pandas DataFrame with the remaining rows\n",
    "        pandas_df = pd.DataFrame(data, columns=columns)\n",
    "    \n",
    "        # Convert to a snowpark DataFrame\n",
    "        snowpark_df = session.create_dataframe(pandas_df)\n",
    "\n",
    "        # Load into table\n",
    "        session.use_schema(target_schema)\n",
    "        snowpark_df.write.mode(\"overwrite\").save_as_table(target_table)"
   ]
  },
  {
   "cell_type": "code",
   "execution_count": null,
   "id": "0c32b3d8",
   "metadata": {},
   "outputs": [],
   "source": [
    "# Get parameters\n",
    "session = sys.argv[0]\n",
    "params = sys.argv[1]\n",
    "\n",
    "# Load file\n",
    "load_excel_file(session, params)"
   ]
  }
 ],
 "metadata": {
  "language_info": {
   "name": "python"
  }
 },
 "nbformat": 4,
 "nbformat_minor": 5
}
